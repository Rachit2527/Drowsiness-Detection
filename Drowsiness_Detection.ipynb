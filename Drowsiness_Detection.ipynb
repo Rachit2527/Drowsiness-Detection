{
  "nbformat": 4,
  "nbformat_minor": 0,
  "metadata": {
    "colab": {
      "provenance": []
    },
    "kernelspec": {
      "name": "python3",
      "display_name": "Python 3"
    },
    "language_info": {
      "name": "python"
    }
  },
  "cells": [
    {
      "cell_type": "code",
      "execution_count": null,
      "metadata": {
        "colab": {
          "base_uri": "https://localhost:8080/",
          "height": 235
        },
        "id": "f7OFmTQY8vPV",
        "outputId": "feeaf0eb-51bc-4b1c-c8f1-e6c97de4e285"
      },
      "outputs": [
        {
          "output_type": "error",
          "ename": "RuntimeError",
          "evalue": "ignored",
          "traceback": [
            "\u001b[0;31m---------------------------------------------------------------------------\u001b[0m",
            "\u001b[0;31mRuntimeError\u001b[0m                              Traceback (most recent call last)",
            "\u001b[0;32m<ipython-input-6-2fe26325536a>\u001b[0m in \u001b[0;36m<cell line: 13>\u001b[0;34m()\u001b[0m\n\u001b[1;32m     11\u001b[0m \u001b[0;31m#Initializing the face detector and landmark detector\u001b[0m\u001b[0;34m\u001b[0m\u001b[0;34m\u001b[0m\u001b[0m\n\u001b[1;32m     12\u001b[0m \u001b[0mdetector\u001b[0m \u001b[0;34m=\u001b[0m \u001b[0mdlib\u001b[0m\u001b[0;34m.\u001b[0m\u001b[0mget_frontal_face_detector\u001b[0m\u001b[0;34m(\u001b[0m\u001b[0;34m)\u001b[0m\u001b[0;34m\u001b[0m\u001b[0;34m\u001b[0m\u001b[0m\n\u001b[0;32m---> 13\u001b[0;31m \u001b[0mpredictor\u001b[0m \u001b[0;34m=\u001b[0m \u001b[0mdlib\u001b[0m\u001b[0;34m.\u001b[0m\u001b[0mshape_predictor\u001b[0m\u001b[0;34m(\u001b[0m\u001b[0;34m\"/content/shape_predictor_68_face_landmarks.dat.bz2\"\u001b[0m\u001b[0;34m)\u001b[0m\u001b[0;34m\u001b[0m\u001b[0;34m\u001b[0m\u001b[0m\n\u001b[0m\u001b[1;32m     14\u001b[0m \u001b[0;34m\u001b[0m\u001b[0m\n\u001b[1;32m     15\u001b[0m \u001b[0;31m#status marking for current state\u001b[0m\u001b[0;34m\u001b[0m\u001b[0;34m\u001b[0m\u001b[0m\n",
            "\u001b[0;31mRuntimeError\u001b[0m: Unexpected version found while deserializing dlib::shape_predictor."
          ]
        }
      ],
      "source": [
        "import dlib\n",
        "#face_utils for basic operations of conversion\n",
        "from imutils import face_utils\n",
        "import cv2\n",
        "from google.colab.patches import cv2_imshow\n",
        "\n",
        "\n",
        "#Initializing the camera and taking the instance\n",
        "cap = cv2.VideoCapture(0)\n",
        "\n",
        "#Initializing the face detector and landmark detector\n",
        "detector = dlib.get_frontal_face_detector()\n",
        "predictor = dlib.shape_predictor(\"/content/shape_predictor_68_face_landmarks.dat.bz2\")\n",
        "\n",
        "#status marking for current state\n",
        "sleep = 0\n",
        "drowsy = 0\n",
        "active = 0\n",
        "status=\"\"\n",
        "color=(0,0,0)\n",
        "\n",
        "def compute(ptA,ptB):\n",
        "\tdist = np.linalg.norm(ptA - ptB)\n",
        "\treturn dist\n",
        "\n",
        "def blinked(a,b,c,d,e,f):\n",
        "\tup = compute(b,d) + compute(c,e)\n",
        "\tdown = compute(a,f)\n",
        "\tratio = up/(2.0*down)\n",
        "\n",
        "\t#Checking if it is blinked\n",
        "\tif(ratio>0.25):\n",
        "\t\treturn 2\n",
        "\telif(ratio>0.21 and ratio<=0.25):\n",
        "\t\treturn 1\n",
        "\telse:\n",
        "\t\treturn 0\n",
        "\n",
        "\n",
        "while True:\n",
        "    _, frame = cap.read()\n",
        "    gray = cv2.cvtColor(frame, cv2.COLOR_BGR2GRAY)\n",
        "\n",
        "    faces = detector(gray)\n",
        "    #detected face in faces array\n",
        "    for face in faces:\n",
        "        x1 = face.left()\n",
        "        y1 = face.top()\n",
        "        x2 = face.right()\n",
        "        y2 = face.bottom()\n",
        "\n",
        "        face_frame = frame.copy()\n",
        "        cv2.rectangle(face_frame, (x1, y1), (x2, y2), (0, 255, 0), 2)\n",
        "\n",
        "        landmarks = predictor(gray, face)\n",
        "        landmarks = face_utils.shape_to_np(landmarks)\n",
        "\n",
        "        #The numbers are actually the landmarks which will show eye\n",
        "        left_blink = blinked(landmarks[36],landmarks[37],\n",
        "        \tlandmarks[38], landmarks[41], landmarks[40], landmarks[39])\n",
        "        right_blink = blinked(landmarks[42],landmarks[43],\n",
        "        \tlandmarks[44], landmarks[47], landmarks[46], landmarks[45])\n",
        "\n",
        "        #Now judge what to do for the eye blinks\n",
        "        if(left_blink==0 or right_blink==0):\n",
        "        \tsleep+=1\n",
        "        \tdrowsy=0\n",
        "        \tactive=0\n",
        "        \tif(sleep>6):\n",
        "        \t\tstatus=\"SLEEPING !!!\"\n",
        "        \t\tcolor = (255,0,0)\n",
        "\n",
        "        elif(left_blink==1 or right_blink==1):\n",
        "        \tsleep=0\n",
        "        \tactive=0\n",
        "        \tdrowsy+=1\n",
        "        \tif(drowsy>6):\n",
        "        \t\tstatus=\"Drowsy !\"\n",
        "        \t\tcolor = (0,0,255)\n",
        "\n",
        "        else:\n",
        "        \tdrowsy=0\n",
        "        \tsleep=0\n",
        "        \tactive+=1\n",
        "        \tif(active>6):\n",
        "        \t\tstatus=\"Active :)\"\n",
        "        \t\tcolor = (0,255,0)\n",
        "\n",
        "        cv2.putText(frame, status, (100,100), cv2.FONT_HERSHEY_SIMPLEX, 1.2, color,3)\n",
        "\n",
        "        for n in range(0, 68):\n",
        "        \t(x,y) = landmarks[n]\n",
        "        \tcv2.circle(face_frame, (x, y), 1, (255, 255, 255), -1)\n",
        "\n",
        "    cv2_imshow(frame)\n",
        "    cv2_imshow(face_frame)\n",
        "    key = cv2.waitKey(1)\n",
        "    if key == 27:\n",
        "      \tbreak"
      ]
    },
    {
      "cell_type": "code",
      "source": [
        "!pip show dlib\n",
        "!pip show opencv-python\n"
      ],
      "metadata": {
        "colab": {
          "base_uri": "https://localhost:8080/"
        },
        "id": "MXrBSGr28wuX",
        "outputId": "c094cae4-c1ad-4fa3-8023-202904965236"
      },
      "execution_count": null,
      "outputs": [
        {
          "output_type": "stream",
          "name": "stdout",
          "text": [
            "Name: dlib\n",
            "Version: 19.24.2\n",
            "Summary: A toolkit for making real world machine learning and data analysis applications\n",
            "Home-page: https://github.com/davisking/dlib\n",
            "Author: Davis King\n",
            "Author-email: davis@dlib.net\n",
            "License: Boost Software License\n",
            "Location: /usr/local/lib/python3.10/dist-packages\n",
            "Requires: \n",
            "Required-by: \n",
            "Name: opencv-python\n",
            "Version: 4.7.0.72\n",
            "Summary: Wrapper package for OpenCV python bindings.\n",
            "Home-page: https://github.com/opencv/opencv-python\n",
            "Author: \n",
            "Author-email: \n",
            "License: Apache 2.0\n",
            "Location: /usr/local/lib/python3.10/dist-packages\n",
            "Requires: numpy, numpy, numpy, numpy\n",
            "Required-by: dopamine-rl, imgaug\n"
          ]
        }
      ]
    },
    {
      "cell_type": "code",
      "source": [],
      "metadata": {
        "id": "YTa0CAYpAjEV"
      },
      "execution_count": null,
      "outputs": []
    }
  ]
}